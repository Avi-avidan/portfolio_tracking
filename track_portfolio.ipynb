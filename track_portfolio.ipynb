{
 "cells": [
  {
   "cell_type": "code",
   "execution_count": 1,
   "metadata": {},
   "outputs": [],
   "source": [
    "from portfolio import Portfolio, telegramBot\n",
    "from token import tele_token"
   ]
  },
  {
   "cell_type": "code",
   "execution_count": null,
   "metadata": {},
   "outputs": [
    {
     "name": "stdout",
     "output_type": "stream",
     "text": [
      "loaded positions from path: csvs/etoro_portfolio_2021-04-29.csv\n",
      "loaded pnl log from: csvs/etoro_pnl_2021-04-29.csv\n",
      "current pnl: 1084.55\n",
      "account: etoro\n",
      "equity: $72761.51\n",
      "allocated: $34190.15\n",
      "cash: $38571.36\n",
      "current pnl: $1084.55\n",
      "dif from previous day: $42.34\n",
      "positions saved to path: csvs/etoro_pnl_2021-04-29.csv\n",
      "pnl saved to path: csvs/etoro_portfolio_2021-04-29.csv\n",
      "loaded positions from path: csvs/bh_portfolio_2021-04-29.csv\n",
      "loaded pnl log from: csvs/bh_pnl_2021-04-29.csv\n",
      "price collected from otc dict: XIACY\n",
      "current pnl: 24481.15\n",
      "account: bh\n",
      "equity: $94481.15\n",
      "allocated: $65145.31\n",
      "cash: $29335.84\n",
      "current pnl: $24481.15\n",
      "dif from previous day: $0.00\n",
      "positions saved to path: csvs/bh_pnl_2021-04-29.csv\n",
      "pnl saved to path: csvs/bh_portfolio_2021-04-29.csv\n",
      "794136711\n",
      "user: 970144980 message: status\n",
      "from:970144980, text:status\n",
      "sending tbot message ..\n",
      "current pnl: 1083.83\n",
      "account: etoro\n",
      "equity: $72760.79\n",
      "allocated: $34189.43\n",
      "cash: $38571.36\n",
      "current pnl: $1083.83\n",
      "dif from previous day: $41.62\n",
      "positions saved to path: csvs/etoro_pnl_2021-04-29.csv\n",
      "pnl saved to path: csvs/etoro_portfolio_2021-04-29.csv\n",
      "sending tbot message ..\n",
      "sending tbot message ..\n",
      "price collected from otc dict: XIACY\n",
      "current pnl: 24481.15\n",
      "account: bh\n",
      "equity: $94481.15\n",
      "allocated: $65145.31\n",
      "cash: $29335.84\n",
      "current pnl: $24481.15\n",
      "dif from previous day: $0.00\n",
      "positions saved to path: csvs/bh_pnl_2021-04-29.csv\n",
      "pnl saved to path: csvs/bh_portfolio_2021-04-29.csv\n",
      "sending tbot message ..\n",
      "sending tbot message ..\n",
      "standing by ...\n"
     ]
    }
   ],
   "source": [
    "while(True):\n",
    "    etoro_p = Portfolio('etoro', 71676.96) #, portfolio_csv='csvs/etoro_portfolio_2021-04-28.csv', pnl_csv='csvs/etoro_pnl_2021-04-28.csv')\n",
    "    bh_p = Portfolio('bh', 70000) #, portfolio_csv='csvs/bh_portfolio_2021-04-28.csv', pnl_csv='csvs/bh_pnl_2021-04-28.csv')\n",
    "    tbot = telegramBot(tele_token, portfolios=[etoro_p, bh_p])\n",
    "    tbot.loop_for_telegram()"
   ]
  },
  {
   "cell_type": "code",
   "execution_count": 4,
   "metadata": {},
   "outputs": [
    {
     "name": "stdout",
     "output_type": "stream",
     "text": [
      "FTCV:   USD11.2,    dif:USD-0.24,   -2.10%\n",
      "FTOC:   USD10.19,   dif:USD+0.03,   +0.30%\n",
      "YNDX:   USD61.6,    dif:USD+0.89,   +1.47%\n",
      "xlm-usd: USD0.49479, dif:USD+0.00177,+0.36%\n",
      "ftoc:   USD10.19,   dif:USD+0.03,   +0.30%\n",
      "pltr:   USD23.07,   dif:USD+0.44,   +1.94%\n",
      "ESTC:   USD126.22,  dif:USD+2.32,   +1.87%\n",
      "TCEHY:  HKD623.05,  dif:HKD+3.65,   +0.59%\n",
      "BABA:   USD231.6,   dif:USD+2.16,   +0.94%\n",
      "avav:   USD108.37,  dif:USD+1.79,   +1.68%\n",
      "BIDU:   USD216.22,  dif:USD+1.59,   +0.74%\n"
     ]
    }
   ],
   "source": [
    "for t in etoro_p.positions.text_out.values:\n",
    "    print(t)"
   ]
  },
  {
   "cell_type": "code",
   "execution_count": 5,
   "metadata": {},
   "outputs": [
    {
     "name": "stdout",
     "output_type": "stream",
     "text": [
      "SNOW:   USD233.75,  dif:USD+2.36,   +1.02%\n",
      "HYMTF:  USD47.69,   dif:USD+0.0,    +0.00%\n",
      "XIACY:  USD14.7,    dif:USD+0.0,    +0.00%\n",
      "INVZ:   USD10.42,   dif:USD+0.0,    +0.00%\n",
      "XIACF:  USD3.3,     dif:USD+0.0,    +0.00%\n",
      "invz:   USD10.42,   dif:USD+0.0,    +0.00%\n",
      "BABA:   USD231.49,  dif:USD+2.04,   +0.89%\n",
      "LMT:    USD382.43,  dif:USD-4.8,    -1.24%\n",
      "invz:   USD10.42,   dif:USD+0.0,    +0.00%\n",
      "SNAP:   USD58.29,   dif:USD-0.01,   -0.02%\n",
      "RWLK:   USD1.82,    dif:USD-0.1,    -5.21%\n",
      "NFLX:   USD505.0,   dif:USD-3.92,   -0.77%\n",
      "MSFT:   USD261.05,  dif:USD+0.47,   +0.18%\n",
      "TSLA:   USD740.82,  dif:USD-3.27,   -0.44%\n",
      "DIS:    USD184.01,  dif:USD+0.9,    +0.49%\n",
      "IRBT:   USD111.77,  dif:USD-1.03,   -0.91%\n",
      "CCL:    USD27.36,   dif:USD+0.03,   +0.11%\n",
      "BA:     USD238.11,  dif:USD+2.19,   +0.93%\n",
      "AAPL:   USD133.35,  dif:USD-0.15,   -0.11%\n",
      "SFTBY:  USD46.79,   dif:USD+0.04,   +0.09%\n",
      "AMZN:   USD3366.33, dif:USD+4.37,   +0.13%\n",
      "NVDA:   USD610.77,  dif:USD-3.63,   -0.59%\n"
     ]
    }
   ],
   "source": [
    "for t in bh_p.positions.text_out.values:\n",
    "    print(t)"
   ]
  }
 ],
 "metadata": {
  "kernelspec": {
   "display_name": "Python 3",
   "language": "python",
   "name": "python3"
  },
  "language_info": {
   "codemirror_mode": {
    "name": "ipython",
    "version": 3
   },
   "file_extension": ".py",
   "mimetype": "text/x-python",
   "name": "python",
   "nbconvert_exporter": "python",
   "pygments_lexer": "ipython3",
   "version": "3.7.6"
  }
 },
 "nbformat": 4,
 "nbformat_minor": 2
}
